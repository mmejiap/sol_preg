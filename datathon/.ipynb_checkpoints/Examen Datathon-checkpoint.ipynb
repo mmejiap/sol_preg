{
 "cells": [
  {
   "cell_type": "markdown",
   "metadata": {},
   "source": [
    "## Estadística y de Cloud"
   ]
  },
  {
   "cell_type": "markdown",
   "metadata": {},
   "source": [
    "__1. ¿Qué emplearías para reducir la dimensionalidad de variables cualitativas?__"
   ]
  },
  {
   "cell_type": "markdown",
   "metadata": {},
   "source": [
    "**Respuesta:** Existen tecnicas de reduccion de la dimension, que lo que buscan es condensar la informacion del conjunto de variables que se tenga en un nuevo conjunto de variables, especificamente para variables cualitativas empleariamos una tecnica basada en el **analisis de correspondencias**, donde utilizando tablas de contingencia se obtiennen las frecuencias absolutas de nuestras variables."
   ]
  },
  {
   "cell_type": "markdown",
   "metadata": {},
   "source": [
    "__2. Las metodologías que se utilizan para medir la eficacia de los modelos de propensión de variable cualitativa o modelos de clasificación son diversas, mencione 2 de ellas y las características fundamentales de ellas.__"
   ]
  },
  {
   "cell_type": "markdown",
   "metadata": {},
   "source": [
    "**Respuesta:** "
   ]
  },
  {
   "cell_type": "markdown",
   "metadata": {},
   "source": [
    "__3. El modelamiento usualmente requiere alterar las muestras, esto es conocido con oversampling, luego del modelamiento ¿es posible corregir dichas probabilidades para volver a su distribución original? ¿cómo?__"
   ]
  },
  {
   "cell_type": "markdown",
   "metadata": {},
   "source": [
    "**Respuesta:** "
   ]
  },
  {
   "cell_type": "markdown",
   "metadata": {},
   "source": [
    "__4. ¿Cuál es el valor agregado de un Modelo predictivo Bayesiano sobre un Modelo de Machine Learning?__"
   ]
  },
  {
   "cell_type": "markdown",
   "metadata": {},
   "source": [
    "**Respuesta:** "
   ]
  },
  {
   "cell_type": "markdown",
   "metadata": {},
   "source": [
    "__5. Mencione las diferencias y beneficios de trabajar con datos en la nube vs en datos on premise.__"
   ]
  },
  {
   "cell_type": "markdown",
   "metadata": {},
   "source": [
    "**Respuesta:**\n",
    " \n",
    " \n",
    "|**nube**|** on premise **|\n",
    "|:---------------:|:----------------:|\n",
    "|-> No se tiene control de la base de datos|-> Si tiene control de la base datos|\n",
    "|-> Seguridad garantizada por el proveedor|-> Seguridad dependiente del cliente|\n",
    "|-> Menor costo de mantemiento del sistema |-> Mayor Costo del mantenimiento del sistema|\n",
    "|-> No se requiere infraestructura TI | -> Requiere infraestructura y equipo para el soporte TI|\n",
    "|-> Rapido set-up|-> Frexibilidad en los updates|\n",
    "|-> No se puede personalizar nuestro modelo | -> Altamente personalizable |\n",
    "|-> Pocas herramientas para un trabajo profesional con el tratamiento de la infromacion  | -> Usado en trabajos profesionales y precisos para procesamiento de la informacion |"
   ]
  },
  {
   "cell_type": "markdown",
   "metadata": {},
   "source": [
    "## Programación"
   ]
  },
  {
   "cell_type": "markdown",
   "metadata": {},
   "source": [
    "__1) Crear una función que imprima los dos últimos números de la secuencia de Fibonacci, uno de los parámetros de la función debe ser el último número.__\n",
    "\n",
    "__Ej. Fibonacci (6765) -> 4181, 2584. Sin usar bucles.__"
   ]
  },
  {
   "cell_type": "code",
   "execution_count": null,
   "metadata": {
    "collapsed": true
   },
   "outputs": [],
   "source": []
  },
  {
   "cell_type": "markdown",
   "metadata": {},
   "source": [
    "__2) Se tiene una matriz A, donde los valores corresponden a la posición de esta [i,j], crear una función que permita imprimir la inversa de la matriz pero por la otra diagonal, como se muestra a continuación:__\n",
    "\n",
    "![](problema2.png)"
   ]
  },
  {
   "cell_type": "markdown",
   "metadata": {},
   "source": [
    "__3) Crear una función que permita ordenar y eliminar los elementos repetidos de un arreglo de números. Ejem: del vector [ 10,8,1,1,3,6,2], obtener como resultado:__\n",
    "\n",
    "__x <- [1,2,3,6,8,10]__"
   ]
  },
  {
   "cell_type": "code",
   "execution_count": null,
   "metadata": {
    "collapsed": true
   },
   "outputs": [],
   "source": []
  }
 ],
 "metadata": {
  "kernelspec": {
   "display_name": "Python 3",
   "language": "python",
   "name": "python3"
  },
  "language_info": {
   "codemirror_mode": {
    "name": "ipython",
    "version": 3
   },
   "file_extension": ".py",
   "mimetype": "text/x-python",
   "name": "python",
   "nbconvert_exporter": "python",
   "pygments_lexer": "ipython3",
   "version": "3.6.1"
  }
 },
 "nbformat": 4,
 "nbformat_minor": 2
}
